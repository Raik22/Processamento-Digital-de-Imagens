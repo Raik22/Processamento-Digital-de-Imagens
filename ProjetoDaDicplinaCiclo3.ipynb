{
  "cells": [
    {
      "cell_type": "markdown",
      "metadata": {
        "id": "view-in-github",
        "colab_type": "text"
      },
      "source": [
        "<a href=\"https://colab.research.google.com/github/Raik22/Processamento-Digital-de-Imagens/blob/main/ProjetoDaDicplinaCiclo3.ipynb\" target=\"_parent\"><img src=\"https://colab.research.google.com/assets/colab-badge.svg\" alt=\"Open In Colab\"/></a>"
      ]
    },
    {
      "cell_type": "code",
      "source": [
        "!pip install rasterio"
      ],
      "metadata": {
        "colab": {
          "base_uri": "https://localhost:8080/"
        },
        "id": "yBamgUMn3Um9",
        "outputId": "3a3e27cd-7108-45f7-b29d-af894158495b"
      },
      "execution_count": 2,
      "outputs": [
        {
          "output_type": "stream",
          "name": "stdout",
          "text": [
            "Collecting rasterio\n",
            "  Downloading rasterio-1.4.3-cp310-cp310-manylinux_2_17_x86_64.manylinux2014_x86_64.whl.metadata (9.1 kB)\n",
            "Collecting affine (from rasterio)\n",
            "  Downloading affine-2.4.0-py3-none-any.whl.metadata (4.0 kB)\n",
            "Requirement already satisfied: attrs in /usr/local/lib/python3.10/dist-packages (from rasterio) (24.2.0)\n",
            "Requirement already satisfied: certifi in /usr/local/lib/python3.10/dist-packages (from rasterio) (2024.8.30)\n",
            "Requirement already satisfied: click>=4.0 in /usr/local/lib/python3.10/dist-packages (from rasterio) (8.1.7)\n",
            "Collecting cligj>=0.5 (from rasterio)\n",
            "  Downloading cligj-0.7.2-py3-none-any.whl.metadata (5.0 kB)\n",
            "Requirement already satisfied: numpy>=1.24 in /usr/local/lib/python3.10/dist-packages (from rasterio) (1.26.4)\n",
            "Collecting click-plugins (from rasterio)\n",
            "  Downloading click_plugins-1.1.1-py2.py3-none-any.whl.metadata (6.4 kB)\n",
            "Requirement already satisfied: pyparsing in /usr/local/lib/python3.10/dist-packages (from rasterio) (3.2.0)\n",
            "Downloading rasterio-1.4.3-cp310-cp310-manylinux_2_17_x86_64.manylinux2014_x86_64.whl (22.2 MB)\n",
            "\u001b[2K   \u001b[90m━━━━━━━━━━━━━━━━━━━━━━━━━━━━━━━━━━━━━━━━\u001b[0m \u001b[32m22.2/22.2 MB\u001b[0m \u001b[31m66.0 MB/s\u001b[0m eta \u001b[36m0:00:00\u001b[0m\n",
            "\u001b[?25hDownloading cligj-0.7.2-py3-none-any.whl (7.1 kB)\n",
            "Downloading affine-2.4.0-py3-none-any.whl (15 kB)\n",
            "Downloading click_plugins-1.1.1-py2.py3-none-any.whl (7.5 kB)\n",
            "Installing collected packages: cligj, click-plugins, affine, rasterio\n",
            "Successfully installed affine-2.4.0 click-plugins-1.1.1 cligj-0.7.2 rasterio-1.4.3\n"
          ]
        }
      ]
    },
    {
      "cell_type": "code",
      "source": [
        "import rasterio\n",
        "import numpy as np\n",
        "\n",
        "# Constante para a área total do Brasil em hectares\n",
        "AREA_BRASIL_HECTARES = 851576700  # Fonte: IBGE\n",
        "\n",
        "def analisar_imagem(caminho_imagem):\n",
        "    try:\n",
        "        # Abrindo a imagem raster\n",
        "        with rasterio.open(caminho_imagem) as src:\n",
        "            # Lendo os dados da imagem\n",
        "            dados = src.read(1)  # Lê o primeiro band\n",
        "    except rasterio.RasterioIOError as e:\n",
        "        print(f\"Error opening or reading the file: {e}\")\n",
        "        # You can add further debugging or handling here, e.g., exiting the function\n",
        "        return\n",
        "\n",
        "    # Quantidade total de pixels na imagem\n",
        "    total_pixels = dados.size\n",
        "\n",
        "    # Contando a quantidade de pixels de cada categoria\n",
        "    pixels_sem_dados = np.sum(dados == 0)\n",
        "    pixels_soja = np.sum(dados == 39)\n",
        "    pixels_pastagem = np.sum(dados == 15)\n",
        "\n",
        "    # Cálculo de pixels válidos (sem considerar pixels sem dados)\n",
        "    pixels_validos = total_pixels - pixels_sem_dados\n",
        "\n",
        "    # Calculando a porcentagem de cobertura\n",
        "    porcentagem_soja = (pixels_soja / pixels_validos) * 100\n",
        "    porcentagem_pastagem = (pixels_pastagem / pixels_validos) * 100\n",
        "\n",
        "    # Calculando a área em hectares\n",
        "    area_soja_hectares = (porcentagem_soja / 100) * AREA_BRASIL_HECTARES\n",
        "    area_pastagem_hectares = (porcentagem_pastagem / 100) * AREA_BRASIL_HECTARES\n",
        "\n",
        "    # Exibindo os resultados\n",
        "    print(\"Resultados da análise:\")\n",
        "    print(f\"Total de pixels: {total_pixels}\")\n",
        "    print(f\"Pixels sem dados: {pixels_sem_dados}\")\n",
        "    print(f\"Pixels de plantio de soja: {pixels_soja}\")\n",
        "    print(f\"Pixels de pastagem: {pixels_pastagem}\")\n",
        "    print(f\"Área de plantio de soja: {area_soja_hectares:.2f} hectares ({pixels_soja} pixels)\")\n",
        "    print(f\"Área de pastagem: {area_pastagem_hectares:.2f} hectares ({pixels_pastagem} pixels)\")\n",
        "\n",
        "# Caminho para o arquivo `brasil_coverage_2022.tif`\n",
        "caminho_imagem = \"brasil_coverage_2022.tif\""
      ],
      "metadata": {
        "id": "_WSyoD8e39yY"
      },
      "execution_count": 13,
      "outputs": []
    },
    {
      "cell_type": "code",
      "source": [
        "import rasterio\n",
        "import numpy as np\n",
        "\n",
        "# Constante para a área total do Brasil em hectares\n",
        "AREA_BRASIL_HECTARES = 851576700  # Fonte: IBGE\n",
        "\n",
        "def analisar_imagem(caminho_imagem):\n",
        "    \"\"\"\n",
        "    Analisa uma imagem raster e retorna informações sobre a quantidade de pixels e áreas de soja e pastagem.\n",
        "\n",
        "    Args:\n",
        "        caminho_imagem (str): O caminho para o arquivo da imagem raster.\n",
        "\n",
        "    Returns:\n",
        "        tuple: Uma tupla contendo informações sobre os pixels e áreas, ou None em caso de erro.\n",
        "    \"\"\"\n",
        "    try:\n",
        "        # Abrindo a imagem raster com driver específico\n",
        "        with rasterio.open(caminho_imagem, driver='GTiff') as src:\n",
        "            # Lendo os dados da imagem (primeira banda)\n",
        "            dados = src.read(1)\n",
        "    except rasterio.RasterioIOError as e:\n",
        "        print(f\"Erro ao abrir ou ler o arquivo: {e}\")\n",
        "        return None  # Retorna None em caso de erro\n",
        "\n",
        "    # 1. Quantidade total de pixels na imagem\n",
        "    total_pixels = dados.size\n",
        "\n",
        "    # 2. Quantidade de pixels sem dados (código 0)\n",
        "    pixels_sem_dados = np.sum(dados == 0)\n",
        "\n",
        "    # 3. Quantidade de pixels de soja (código 39)\n",
        "    pixels_soja = np.sum(dados == 39)\n",
        "\n",
        "    # 4. Quantidade de pixels de pastagem (código 15)\n",
        "    pixels_pastagem = np.sum(dados == 15)\n",
        "\n",
        "    # Cálculo de pixels válidos (sem considerar pixels sem dados)\n",
        "    pixels_validos = total_pixels - pixels_sem_dados\n",
        "\n",
        "    # Calculando a porcentagem de cobertura\n",
        "    porcentagem_soja = (pixels_soja / pixels_validos) * 100\n",
        "    porcentagem_pastagem = (pixels_pastagem / pixels_validos) * 100\n",
        "\n",
        "    # Calculando a área em hectares\n",
        "    area_soja_hectares = (porcentagem_soja / 100) * AREA_BRASIL_HECTARES\n",
        "    area_pastagem_hectares = (porcentagem_pastagem / 100) * AREA_BRASIL_HECTARES\n",
        "\n",
        "    # Retornando os resultados\n",
        "    return (total_pixels, pixels_sem_dados, pixels_soja, pixels_pastagem,\n",
        "            area_soja_hectares, area_pastagem_hectares)\n",
        "\n",
        "# Caminho para o arquivo `brasil_coverage_2022.tif`\n",
        "caminho_imagem = \"brasil_coverage_2022.tif\"\n",
        "\n",
        "# Executar a análise e obter os resultados\n",
        "resultados = analisar_imagem(caminho_imagem)\n",
        "\n",
        "# Imprimir os resultados se a análise foi bem-sucedida\n",
        "if resultados:\n",
        "    (total_pixels, pixels_sem_dados, pixels_soja, pixels_pastagem,\n",
        "     area_soja_hectares, area_pastagem_hectares) = resultados\n",
        "\n",
        "    print(\"Resultados da análise:\")\n",
        "    print(f\"Total de pixels: {total_pixels}\")\n",
        "    print(f\"Pixels sem dados: {pixels_sem_dados}\")\n",
        "    print(f\"Pixels de plantio de soja: {pixels_soja}\")\n",
        "    print(f\"Pixels de pastagem: {pixels_pastagem}\")\n",
        "    print(f\"Área de plantio de soja: {area_soja_hectares:.2f} hectares ({pixels_soja} pixels)\")\n",
        "    print(f\"Área de pastagem: {area_pastagem_hectares:.2f} hectares ({pixels_pastagem} pixels)\")"
      ],
      "metadata": {
        "colab": {
          "base_uri": "https://localhost:8080/"
        },
        "id": "cBAITaED5T2g",
        "outputId": "744add07-7854-4169-be70-9feabe9eaa8d"
      },
      "execution_count": 14,
      "outputs": [
        {
          "output_type": "stream",
          "name": "stdout",
          "text": [
            "Erro ao abrir ou ler o arquivo: Read failed. See previous exception for details.\n"
          ]
        }
      ]
    }
  ],
  "metadata": {
    "colab": {
      "name": "Welcome To Colab",
      "provenance": [],
      "include_colab_link": true
    },
    "kernelspec": {
      "display_name": "Python 3",
      "name": "python3"
    }
  },
  "nbformat": 4,
  "nbformat_minor": 0
}